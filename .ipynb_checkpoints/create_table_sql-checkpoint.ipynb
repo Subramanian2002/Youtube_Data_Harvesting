{
 "cells": [
  {
   "cell_type": "code",
   "execution_count": 2,
   "id": "7a0ce15e",
   "metadata": {},
   "outputs": [],
   "source": [
    "import mysql.connector as sql"
   ]
  },
  {
   "cell_type": "code",
   "execution_count": 3,
   "id": "0610ed2d",
   "metadata": {},
   "outputs": [],
   "source": [
    "conn =sql.connect(user = 'root',password = '1234',host = 'localhost',database ='youtube_data_harvesting')"
   ]
  },
  {
   "cell_type": "code",
   "execution_count": 4,
   "id": "38ac82d1",
   "metadata": {},
   "outputs": [],
   "source": [
    "cursor = conn.cursor()"
   ]
  },
  {
   "cell_type": "code",
   "execution_count": 5,
   "id": "f39c4f02",
   "metadata": {},
   "outputs": [],
   "source": [
    "import pymongo\n",
    "\n",
    "myclient = pymongo.MongoClient(\"mongodb://localhost:27017/\")\n",
    "mydb = myclient[\"YTH\"]\n",
    "mycol = mydb[\"channel_data\"]"
   ]
  },
  {
   "cell_type": "code",
   "execution_count": 6,
   "id": "b2121841",
   "metadata": {
    "collapsed": true
   },
   "outputs": [
    {
     "ename": "ProgrammingError",
     "evalue": "1050 (42S01): Table 'channels' already exists",
     "output_type": "error",
     "traceback": [
      "\u001b[1;31m---------------------------------------------------------------------------\u001b[0m",
      "\u001b[1;31mMySQLInterfaceError\u001b[0m                       Traceback (most recent call last)",
      "File \u001b[1;32mc:\\Users\\Aayirathal\\Desktop\\project\\Youtube_data_harvesting\\.venv\\Lib\\site-packages\\mysql\\connector\\connection_cext.py:633\u001b[0m, in \u001b[0;36mCMySQLConnection.cmd_query\u001b[1;34m(self, query, raw, buffered, raw_as_string)\u001b[0m\n\u001b[0;32m    632\u001b[0m         query \u001b[39m=\u001b[39m query\u001b[39m.\u001b[39mencode(\u001b[39m\"\u001b[39m\u001b[39mutf-8\u001b[39m\u001b[39m\"\u001b[39m)\n\u001b[1;32m--> 633\u001b[0m     \u001b[39mself\u001b[39;49m\u001b[39m.\u001b[39;49m_cmysql\u001b[39m.\u001b[39;49mquery(\n\u001b[0;32m    634\u001b[0m         query,\n\u001b[0;32m    635\u001b[0m         raw\u001b[39m=\u001b[39;49mraw,\n\u001b[0;32m    636\u001b[0m         buffered\u001b[39m=\u001b[39;49mbuffered,\n\u001b[0;32m    637\u001b[0m         raw_as_string\u001b[39m=\u001b[39;49mraw_as_string,\n\u001b[0;32m    638\u001b[0m         query_attrs\u001b[39m=\u001b[39;49m\u001b[39mself\u001b[39;49m\u001b[39m.\u001b[39;49mquery_attrs,\n\u001b[0;32m    639\u001b[0m     )\n\u001b[0;32m    640\u001b[0m \u001b[39mexcept\u001b[39;00m MySQLInterfaceError \u001b[39mas\u001b[39;00m err:\n",
      "\u001b[1;31mMySQLInterfaceError\u001b[0m: Table 'channels' already exists",
      "\nThe above exception was the direct cause of the following exception:\n",
      "\u001b[1;31mProgrammingError\u001b[0m                          Traceback (most recent call last)",
      "\u001b[1;32mc:\\Users\\Aayirathal\\Desktop\\project\\Youtube_data_harvesting\\create_table_sql.ipynb Cell 5\u001b[0m line \u001b[0;36m7\n\u001b[0;32m      <a href='vscode-notebook-cell:/c%3A/Users/Aayirathal/Desktop/project/Youtube_data_harvesting/create_table_sql.ipynb#W4sZmlsZQ%3D%3D?line=0'>1</a>\u001b[0m query \u001b[39m=\u001b[39m \u001b[39m\"\"\"\u001b[39m\u001b[39mCREATE TABLE channels(\u001b[39m\n\u001b[0;32m      <a href='vscode-notebook-cell:/c%3A/Users/Aayirathal/Desktop/project/Youtube_data_harvesting/create_table_sql.ipynb#W4sZmlsZQ%3D%3D?line=1'>2</a>\u001b[0m \u001b[39m        channel_id varchar(255),\u001b[39m\n\u001b[0;32m      <a href='vscode-notebook-cell:/c%3A/Users/Aayirathal/Desktop/project/Youtube_data_harvesting/create_table_sql.ipynb#W4sZmlsZQ%3D%3D?line=2'>3</a>\u001b[0m \u001b[39m        channel_name varchar(255),\u001b[39m\n\u001b[0;32m      <a href='vscode-notebook-cell:/c%3A/Users/Aayirathal/Desktop/project/Youtube_data_harvesting/create_table_sql.ipynb#W4sZmlsZQ%3D%3D?line=3'>4</a>\u001b[0m \u001b[39m        channel_views int,\u001b[39m\n\u001b[0;32m      <a href='vscode-notebook-cell:/c%3A/Users/Aayirathal/Desktop/project/Youtube_data_harvesting/create_table_sql.ipynb#W4sZmlsZQ%3D%3D?line=4'>5</a>\u001b[0m \u001b[39m        channel_description text,\u001b[39m\n\u001b[0;32m      <a href='vscode-notebook-cell:/c%3A/Users/Aayirathal/Desktop/project/Youtube_data_harvesting/create_table_sql.ipynb#W4sZmlsZQ%3D%3D?line=5'>6</a>\u001b[0m \u001b[39m        channel_subscription_count int);\u001b[39m\u001b[39m\"\"\"\u001b[39m\n\u001b[1;32m----> <a href='vscode-notebook-cell:/c%3A/Users/Aayirathal/Desktop/project/Youtube_data_harvesting/create_table_sql.ipynb#W4sZmlsZQ%3D%3D?line=6'>7</a>\u001b[0m cursor\u001b[39m.\u001b[39;49mexecute(query)            \n",
      "File \u001b[1;32mc:\\Users\\Aayirathal\\Desktop\\project\\Youtube_data_harvesting\\.venv\\Lib\\site-packages\\mysql\\connector\\cursor_cext.py:330\u001b[0m, in \u001b[0;36mCMySQLCursor.execute\u001b[1;34m(self, operation, params, multi)\u001b[0m\n\u001b[0;32m    325\u001b[0m             \u001b[39mraise\u001b[39;00m ProgrammingError(\n\u001b[0;32m    326\u001b[0m                 \u001b[39m\"\u001b[39m\u001b[39mNot all parameters were used in the SQL statement\u001b[39m\u001b[39m\"\u001b[39m\n\u001b[0;32m    327\u001b[0m             )\n\u001b[0;32m    329\u001b[0m \u001b[39mtry\u001b[39;00m:\n\u001b[1;32m--> 330\u001b[0m     result \u001b[39m=\u001b[39m \u001b[39mself\u001b[39;49m\u001b[39m.\u001b[39;49m_cnx\u001b[39m.\u001b[39;49mcmd_query(\n\u001b[0;32m    331\u001b[0m         stmt,\n\u001b[0;32m    332\u001b[0m         raw\u001b[39m=\u001b[39;49m\u001b[39mself\u001b[39;49m\u001b[39m.\u001b[39;49m_raw,\n\u001b[0;32m    333\u001b[0m         buffered\u001b[39m=\u001b[39;49m\u001b[39mself\u001b[39;49m\u001b[39m.\u001b[39;49m_buffered,\n\u001b[0;32m    334\u001b[0m         raw_as_string\u001b[39m=\u001b[39;49m\u001b[39mself\u001b[39;49m\u001b[39m.\u001b[39;49m_raw_as_string,\n\u001b[0;32m    335\u001b[0m     )\n\u001b[0;32m    336\u001b[0m \u001b[39mexcept\u001b[39;00m MySQLInterfaceError \u001b[39mas\u001b[39;00m err:\n\u001b[0;32m    337\u001b[0m     \u001b[39mraise\u001b[39;00m get_mysql_exception(\n\u001b[0;32m    338\u001b[0m         msg\u001b[39m=\u001b[39merr\u001b[39m.\u001b[39mmsg, errno\u001b[39m=\u001b[39merr\u001b[39m.\u001b[39merrno, sqlstate\u001b[39m=\u001b[39merr\u001b[39m.\u001b[39msqlstate\n\u001b[0;32m    339\u001b[0m     ) \u001b[39mfrom\u001b[39;00m \u001b[39merr\u001b[39;00m\n",
      "File \u001b[1;32mc:\\Users\\Aayirathal\\Desktop\\project\\Youtube_data_harvesting\\.venv\\Lib\\site-packages\\mysql\\connector\\opentelemetry\\context_propagation.py:77\u001b[0m, in \u001b[0;36mwith_context_propagation.<locals>.wrapper\u001b[1;34m(cnx, *args, **kwargs)\u001b[0m\n\u001b[0;32m     75\u001b[0m \u001b[39m\u001b[39m\u001b[39m\"\"\"Context propagation decorator.\"\"\"\u001b[39;00m\n\u001b[0;32m     76\u001b[0m \u001b[39mif\u001b[39;00m \u001b[39mnot\u001b[39;00m OTEL_ENABLED \u001b[39mor\u001b[39;00m \u001b[39mnot\u001b[39;00m cnx\u001b[39m.\u001b[39motel_context_propagation:\n\u001b[1;32m---> 77\u001b[0m     \u001b[39mreturn\u001b[39;00m method(cnx, \u001b[39m*\u001b[39;49margs, \u001b[39m*\u001b[39;49m\u001b[39m*\u001b[39;49mkwargs)\n\u001b[0;32m     79\u001b[0m current_span \u001b[39m=\u001b[39m trace\u001b[39m.\u001b[39mget_current_span()\n\u001b[0;32m     80\u001b[0m tp_header \u001b[39m=\u001b[39m \u001b[39mNone\u001b[39;00m\n",
      "File \u001b[1;32mc:\\Users\\Aayirathal\\Desktop\\project\\Youtube_data_harvesting\\.venv\\Lib\\site-packages\\mysql\\connector\\connection_cext.py:641\u001b[0m, in \u001b[0;36mCMySQLConnection.cmd_query\u001b[1;34m(self, query, raw, buffered, raw_as_string)\u001b[0m\n\u001b[0;32m    633\u001b[0m     \u001b[39mself\u001b[39m\u001b[39m.\u001b[39m_cmysql\u001b[39m.\u001b[39mquery(\n\u001b[0;32m    634\u001b[0m         query,\n\u001b[0;32m    635\u001b[0m         raw\u001b[39m=\u001b[39mraw,\n\u001b[1;32m   (...)\u001b[0m\n\u001b[0;32m    638\u001b[0m         query_attrs\u001b[39m=\u001b[39m\u001b[39mself\u001b[39m\u001b[39m.\u001b[39mquery_attrs,\n\u001b[0;32m    639\u001b[0m     )\n\u001b[0;32m    640\u001b[0m \u001b[39mexcept\u001b[39;00m MySQLInterfaceError \u001b[39mas\u001b[39;00m err:\n\u001b[1;32m--> 641\u001b[0m     \u001b[39mraise\u001b[39;00m get_mysql_exception(\n\u001b[0;32m    642\u001b[0m         err\u001b[39m.\u001b[39merrno, msg\u001b[39m=\u001b[39merr\u001b[39m.\u001b[39mmsg, sqlstate\u001b[39m=\u001b[39merr\u001b[39m.\u001b[39msqlstate\n\u001b[0;32m    643\u001b[0m     ) \u001b[39mfrom\u001b[39;00m \u001b[39merr\u001b[39;00m\n\u001b[0;32m    644\u001b[0m \u001b[39mexcept\u001b[39;00m \u001b[39mAttributeError\u001b[39;00m \u001b[39mas\u001b[39;00m err:\n\u001b[0;32m    645\u001b[0m     addr \u001b[39m=\u001b[39m (\n\u001b[0;32m    646\u001b[0m         \u001b[39mself\u001b[39m\u001b[39m.\u001b[39m_unix_socket \u001b[39mif\u001b[39;00m \u001b[39mself\u001b[39m\u001b[39m.\u001b[39m_unix_socket \u001b[39melse\u001b[39;00m \u001b[39mf\u001b[39m\u001b[39m\"\u001b[39m\u001b[39m{\u001b[39;00m\u001b[39mself\u001b[39m\u001b[39m.\u001b[39m_host\u001b[39m}\u001b[39;00m\u001b[39m:\u001b[39m\u001b[39m{\u001b[39;00m\u001b[39mself\u001b[39m\u001b[39m.\u001b[39m_port\u001b[39m}\u001b[39;00m\u001b[39m\"\u001b[39m\n\u001b[0;32m    647\u001b[0m     )\n",
      "\u001b[1;31mProgrammingError\u001b[0m: 1050 (42S01): Table 'channels' already exists"
     ]
    }
   ],
   "source": [
    "query = \"\"\"CREATE TABLE channels(\n",
    "        channel_id varchar(255),\n",
    "        channel_name varchar(255),\n",
    "        channel_views int,\n",
    "        channel_description text,\n",
    "        channel_subscription_count int);\"\"\"\n",
    "cursor.execute(query)            "
   ]
  },
  {
   "cell_type": "code",
   "execution_count": 12,
   "id": "be541efd",
   "metadata": {},
   "outputs": [],
   "source": [
    "query = \"\"\"create table playlist(\n",
    "           playlist_id varchar(255),\n",
    "           channel_id varchar(255),\n",
    "           playlist_name varchar(255));\"\"\"\n",
    "cursor.execute(query) "
   ]
  },
  {
   "cell_type": "code",
   "execution_count": 7,
   "id": "7a9e737f",
   "metadata": {},
   "outputs": [],
   "source": [
    "query = \"\"\"create table videos(video_id varchar(255),\n",
    "           channel_id varchar(255),\n",
    "           video_name varchar(255),\n",
    "           video_description varchar(255),\n",
    "           published_date datetime,\n",
    "           view_count int,\n",
    "           like_count int,\n",
    "           favorite_count int,\n",
    "           comment_count int,\n",
    "           video_duration int,\n",
    "           thumbnail varchar(255),\n",
    "           caption_satatus varchar(255));\"\"\"\n",
    "cursor.execute(query)"
   ]
  },
  {
   "cell_type": "code",
   "execution_count": 8,
   "id": "de10d108",
   "metadata": {},
   "outputs": [],
   "source": [
    "query = \"\"\"create table comments(comment_id varchar(255),\n",
    "           video_id varchar(255),\n",
    "           comment_text text,\n",
    "           comment_author varchar(255),\n",
    "           comment_published_date datetime);\"\"\"\n",
    "cursor.execute(query)"
   ]
  },
  {
   "cell_type": "code",
   "execution_count": null,
   "id": "9ad11c9e",
   "metadata": {},
   "outputs": [],
   "source": []
  },
  {
   "cell_type": "code",
   "execution_count": null,
   "id": "bc427f0e",
   "metadata": {},
   "outputs": [],
   "source": []
  },
  {
   "cell_type": "code",
   "execution_count": null,
   "id": "401cf42b",
   "metadata": {},
   "outputs": [],
   "source": []
  }
 ],
 "metadata": {
  "kernelspec": {
   "display_name": "Python 3 (ipykernel)",
   "language": "python",
   "name": "python3"
  },
  "language_info": {
   "codemirror_mode": {
    "name": "ipython",
    "version": 3
   },
   "file_extension": ".py",
   "mimetype": "text/x-python",
   "name": "python",
   "nbconvert_exporter": "python",
   "pygments_lexer": "ipython3",
   "version": "3.11.4"
  }
 },
 "nbformat": 4,
 "nbformat_minor": 5
}
