{
 "cells": [
  {
   "cell_type": "code",
   "execution_count": 18,
   "id": "0cc1b214",
   "metadata": {},
   "outputs": [],
   "source": [
    "import pymongo\n",
    "\n",
    "myclient = pymongo.MongoClient(\"mongodb://localhost:27017/\")\n",
    "mydb = myclient[\"YTH\"]\n",
    "mycol = mydb[\"channel_data\"]\n",
    "my_data =list(mycol.find())"
   ]
  },
  {
   "cell_type": "code",
   "execution_count": 19,
   "id": "41300bcc",
   "metadata": {},
   "outputs": [],
   "source": [
    "import mysql.connector as sql\n",
    "conn =sql.connect(user = 'root',password = 'Mani@2002',host = 'localhost',database ='youtube_data_harvesting')\n",
    "cursor = conn.cursor()"
   ]
  },
  {
   "cell_type": "code",
   "execution_count": 23,
   "id": "14a73ba1",
   "metadata": {},
   "outputs": [],
   "source": [
    "channel_query = \"\"\"INSERT INTO channels(channel_id,channel_name,channel_views,channel_description,channel_subscription_count) VALUES(%s,%s,%s,%s,%s)\"\"\"\n",
    "for i in my_data:\n",
    "    for j in i['channel_details']:\n",
    "        values =(j['Channel_Id'],\n",
    "                 j['Channel_Name'],\n",
    "                 int(j['Channel_Views']),\n",
    "                 j['Channel_Description'],\n",
    "                 int(j['Subscription_Count']))\n",
    "        cursor.execute(channel_query,values)       "
   ]
  },
  {
   "cell_type": "code",
   "execution_count": 27,
   "id": "a547e64f",
   "metadata": {},
   "outputs": [],
   "source": [
    "playlist_query = \"\"\"insert into playlist(playlist_id,channel_id,playlist_name)values(%s,%s,%s);\"\"\"\n",
    "for i in my_data:\n",
    "    for j in i['channel_playlists']:\n",
    "        values =(j['playlist_id'],\n",
    "                 j['channel_id'],\n",
    "                 j['playlist_name'])\n",
    "        cursor.execute(playlist_query,values)        "
   ]
  },
  {
   "cell_type": "code",
   "execution_count": 28,
   "id": "636fded9",
   "metadata": {},
   "outputs": [
    {
     "ename": "DataError",
     "evalue": "1406 (22001): Data too long for column 'video_description' at row 1",
     "output_type": "error",
     "traceback": [
      "\u001b[1;31m---------------------------------------------------------------------------\u001b[0m",
      "\u001b[1;31mMySQLInterfaceError\u001b[0m                       Traceback (most recent call last)",
      "\u001b[1;32m~\\anaconda3\\lib\\site-packages\\mysql\\connector\\connection_cext.py\u001b[0m in \u001b[0;36mcmd_query\u001b[1;34m(self, query, raw, buffered, raw_as_string)\u001b[0m\n\u001b[0;32m    632\u001b[0m                 \u001b[0mquery\u001b[0m \u001b[1;33m=\u001b[0m \u001b[0mquery\u001b[0m\u001b[1;33m.\u001b[0m\u001b[0mencode\u001b[0m\u001b[1;33m(\u001b[0m\u001b[1;34m\"utf-8\"\u001b[0m\u001b[1;33m)\u001b[0m\u001b[1;33m\u001b[0m\u001b[1;33m\u001b[0m\u001b[0m\n\u001b[1;32m--> 633\u001b[1;33m             self._cmysql.query(\n\u001b[0m\u001b[0;32m    634\u001b[0m                 \u001b[0mquery\u001b[0m\u001b[1;33m,\u001b[0m\u001b[1;33m\u001b[0m\u001b[1;33m\u001b[0m\u001b[0m\n",
      "\u001b[1;31mMySQLInterfaceError\u001b[0m: Data too long for column 'video_description' at row 1",
      "\nThe above exception was the direct cause of the following exception:\n",
      "\u001b[1;31mDataError\u001b[0m                                 Traceback (most recent call last)",
      "\u001b[1;32m~\\AppData\\Local\\Temp\\ipykernel_22024\\3897913336.py\u001b[0m in \u001b[0;36m<module>\u001b[1;34m\u001b[0m\n\u001b[0;32m     17\u001b[0m                  \u001b[0mj\u001b[0m\u001b[1;33m[\u001b[0m\u001b[1;34m'thumbnail'\u001b[0m\u001b[1;33m]\u001b[0m\u001b[1;33m,\u001b[0m\u001b[1;33m\u001b[0m\u001b[1;33m\u001b[0m\u001b[0m\n\u001b[0;32m     18\u001b[0m                  j['caption'])\n\u001b[1;32m---> 19\u001b[1;33m         \u001b[0mcursor\u001b[0m\u001b[1;33m.\u001b[0m\u001b[0mexecute\u001b[0m\u001b[1;33m(\u001b[0m\u001b[0mvideo_query\u001b[0m\u001b[1;33m,\u001b[0m\u001b[0mvalues\u001b[0m\u001b[1;33m)\u001b[0m\u001b[1;33m\u001b[0m\u001b[1;33m\u001b[0m\u001b[0m\n\u001b[0m",
      "\u001b[1;32m~\\anaconda3\\lib\\site-packages\\mysql\\connector\\cursor_cext.py\u001b[0m in \u001b[0;36mexecute\u001b[1;34m(self, operation, params, multi)\u001b[0m\n\u001b[0;32m    328\u001b[0m \u001b[1;33m\u001b[0m\u001b[0m\n\u001b[0;32m    329\u001b[0m         \u001b[1;32mtry\u001b[0m\u001b[1;33m:\u001b[0m\u001b[1;33m\u001b[0m\u001b[1;33m\u001b[0m\u001b[0m\n\u001b[1;32m--> 330\u001b[1;33m             result = self._cnx.cmd_query(\n\u001b[0m\u001b[0;32m    331\u001b[0m                 \u001b[0mstmt\u001b[0m\u001b[1;33m,\u001b[0m\u001b[1;33m\u001b[0m\u001b[1;33m\u001b[0m\u001b[0m\n\u001b[0;32m    332\u001b[0m                 \u001b[0mraw\u001b[0m\u001b[1;33m=\u001b[0m\u001b[0mself\u001b[0m\u001b[1;33m.\u001b[0m\u001b[0m_raw\u001b[0m\u001b[1;33m,\u001b[0m\u001b[1;33m\u001b[0m\u001b[1;33m\u001b[0m\u001b[0m\n",
      "\u001b[1;32m~\\anaconda3\\lib\\site-packages\\mysql\\connector\\opentelemetry\\context_propagation.py\u001b[0m in \u001b[0;36mwrapper\u001b[1;34m(cnx, *args, **kwargs)\u001b[0m\n\u001b[0;32m     75\u001b[0m         \u001b[1;34m\"\"\"Context propagation decorator.\"\"\"\u001b[0m\u001b[1;33m\u001b[0m\u001b[1;33m\u001b[0m\u001b[0m\n\u001b[0;32m     76\u001b[0m         \u001b[1;32mif\u001b[0m \u001b[1;32mnot\u001b[0m \u001b[0mOTEL_ENABLED\u001b[0m \u001b[1;32mor\u001b[0m \u001b[1;32mnot\u001b[0m \u001b[0mcnx\u001b[0m\u001b[1;33m.\u001b[0m\u001b[0motel_context_propagation\u001b[0m\u001b[1;33m:\u001b[0m\u001b[1;33m\u001b[0m\u001b[1;33m\u001b[0m\u001b[0m\n\u001b[1;32m---> 77\u001b[1;33m             \u001b[1;32mreturn\u001b[0m \u001b[0mmethod\u001b[0m\u001b[1;33m(\u001b[0m\u001b[0mcnx\u001b[0m\u001b[1;33m,\u001b[0m \u001b[1;33m*\u001b[0m\u001b[0margs\u001b[0m\u001b[1;33m,\u001b[0m \u001b[1;33m**\u001b[0m\u001b[0mkwargs\u001b[0m\u001b[1;33m)\u001b[0m\u001b[1;33m\u001b[0m\u001b[1;33m\u001b[0m\u001b[0m\n\u001b[0m\u001b[0;32m     78\u001b[0m \u001b[1;33m\u001b[0m\u001b[0m\n\u001b[0;32m     79\u001b[0m         \u001b[0mcurrent_span\u001b[0m \u001b[1;33m=\u001b[0m \u001b[0mtrace\u001b[0m\u001b[1;33m.\u001b[0m\u001b[0mget_current_span\u001b[0m\u001b[1;33m(\u001b[0m\u001b[1;33m)\u001b[0m\u001b[1;33m\u001b[0m\u001b[1;33m\u001b[0m\u001b[0m\n",
      "\u001b[1;32m~\\anaconda3\\lib\\site-packages\\mysql\\connector\\connection_cext.py\u001b[0m in \u001b[0;36mcmd_query\u001b[1;34m(self, query, raw, buffered, raw_as_string)\u001b[0m\n\u001b[0;32m    639\u001b[0m             )\n\u001b[0;32m    640\u001b[0m         \u001b[1;32mexcept\u001b[0m \u001b[0mMySQLInterfaceError\u001b[0m \u001b[1;32mas\u001b[0m \u001b[0merr\u001b[0m\u001b[1;33m:\u001b[0m\u001b[1;33m\u001b[0m\u001b[1;33m\u001b[0m\u001b[0m\n\u001b[1;32m--> 641\u001b[1;33m             raise get_mysql_exception(\n\u001b[0m\u001b[0;32m    642\u001b[0m                 \u001b[0merr\u001b[0m\u001b[1;33m.\u001b[0m\u001b[0merrno\u001b[0m\u001b[1;33m,\u001b[0m \u001b[0mmsg\u001b[0m\u001b[1;33m=\u001b[0m\u001b[0merr\u001b[0m\u001b[1;33m.\u001b[0m\u001b[0mmsg\u001b[0m\u001b[1;33m,\u001b[0m \u001b[0msqlstate\u001b[0m\u001b[1;33m=\u001b[0m\u001b[0merr\u001b[0m\u001b[1;33m.\u001b[0m\u001b[0msqlstate\u001b[0m\u001b[1;33m\u001b[0m\u001b[1;33m\u001b[0m\u001b[0m\n\u001b[0;32m    643\u001b[0m             ) from err\n",
      "\u001b[1;31mDataError\u001b[0m: 1406 (22001): Data too long for column 'video_description' at row 1"
     ]
    }
   ],
   "source": [
    "video_query = \"\"\"insert into videos(video_id,channel_id,video_name,video_description,\n",
    "                    published_date,view_count,like_count,favorite_count,\n",
    "                    comment_count,video_duration,thumbnail,caption_satatus) \n",
    "                    values(%s,%s,%s,%s,%s,%s,%s,%s,%s,%s,%s,%s);\"\"\"\n",
    "for i in my_data:\n",
    "    for j in i['video_details']:\n",
    "        values =(j['video_id'],\n",
    "                 j['channel_id'],\n",
    "                 j['video_name'],\n",
    "                 j['video_description'],\n",
    "                 j['publishedat'],\n",
    "                 int(j['view_count']),\n",
    "                 int(j['like_count']),\n",
    "                 int(j['favorite_count']),\n",
    "                 int(j['comment_count']),\n",
    "                 j['video_duration'],\n",
    "                 j['thumbnail'],\n",
    "                 j['caption'])\n",
    "        cursor.execute(video_query,values)         "
   ]
  },
  {
   "cell_type": "code",
   "execution_count": 93,
   "id": "6019fc95",
   "metadata": {},
   "outputs": [
    {
     "name": "stdout",
     "output_type": "stream",
     "text": [
      "22374\n",
      "('UgwpolSzZeouW11Q8iZ4AaABAg', 'qnozeCkyzzw', 'So much water has been wasted for cleaning chicken 😡', 'Guruprasad ', datetime.datetime(2023, 9, 22, 8, 19, 51))\n"
     ]
    }
   ],
   "source": [
    "from datetime import datetime\n",
    "comment_query = \"\"\"\"\"\"\n",
    "for i in my_data:\n",
    "    for j in i['comment_details']:\n",
    "        values =(j['comment_id'],\n",
    "                 j['video_id'],\n",
    "                 j['comment_text'],\n",
    "                 j['comment_author'],\n",
    "                 datetime.strptime(j['comment_publishedat'],\"%Y-%m-%dT%H:%M:%SZ\"))\n",
    "        cursor.execute(comment_query,values)"
   ]
  },
  {
   "cell_type": "code",
   "execution_count": null,
   "id": "91f168b1",
   "metadata": {},
   "outputs": [],
   "source": []
  },
  {
   "cell_type": "code",
   "execution_count": null,
   "id": "b1bc7210",
   "metadata": {},
   "outputs": [],
   "source": []
  },
  {
   "cell_type": "code",
   "execution_count": null,
   "id": "8988ff6e",
   "metadata": {},
   "outputs": [],
   "source": []
  },
  {
   "cell_type": "code",
   "execution_count": 9,
   "id": "d90e211b",
   "metadata": {},
   "outputs": [
    {
     "ename": "NameError",
     "evalue": "name 'data' is not defined",
     "output_type": "error",
     "traceback": [
      "\u001b[1;31m---------------------------------------------------------------------------\u001b[0m",
      "\u001b[1;31mNameError\u001b[0m                                 Traceback (most recent call last)",
      "\u001b[1;32m~\\AppData\\Local\\Temp\\ipykernel_2996\\391604064.py\u001b[0m in \u001b[0;36m<module>\u001b[1;34m\u001b[0m\n\u001b[1;32m----> 1\u001b[1;33m \u001b[0mdata\u001b[0m\u001b[1;33m\u001b[0m\u001b[1;33m\u001b[0m\u001b[0m\n\u001b[0m",
      "\u001b[1;31mNameError\u001b[0m: name 'data' is not defined"
     ]
    }
   ],
   "source": [
    "data"
   ]
  },
  {
   "cell_type": "code",
   "execution_count": 7,
   "id": "a3e063b8",
   "metadata": {},
   "outputs": [],
   "source": [
    "import mysql.connector as sql\n",
    "conn = sql.connect(user = \"root\",password = \"Mani@2002\", host = \"localhost\")"
   ]
  },
  {
   "cell_type": "code",
   "execution_count": 8,
   "id": "6e533952",
   "metadata": {},
   "outputs": [
    {
     "name": "stdout",
     "output_type": "stream",
     "text": [
      "connection is success\n"
     ]
    }
   ],
   "source": [
    "if conn:\n",
    "    print(\"connection is success\")\n",
    "else:\n",
    "    print(\"connection is failed\")"
   ]
  },
  {
   "cell_type": "code",
   "execution_count": null,
   "id": "f6d641d2",
   "metadata": {},
   "outputs": [],
   "source": []
  }
 ],
 "metadata": {
  "kernelspec": {
   "display_name": "Python 3 (ipykernel)",
   "language": "python",
   "name": "python3"
  },
  "language_info": {
   "codemirror_mode": {
    "name": "ipython",
    "version": 3
   },
   "file_extension": ".py",
   "mimetype": "text/x-python",
   "name": "python",
   "nbconvert_exporter": "python",
   "pygments_lexer": "ipython3",
   "version": "3.9.13"
  }
 },
 "nbformat": 4,
 "nbformat_minor": 5
}
