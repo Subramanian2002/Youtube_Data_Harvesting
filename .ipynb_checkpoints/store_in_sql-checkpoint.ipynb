{
 "cells": [
  {
   "cell_type": "code",
   "execution_count": null,
   "id": "7a0ce15e",
   "metadata": {},
   "outputs": [],
   "source": [
    "import mysql.connector as sql"
   ]
  },
  {
   "cell_type": "code",
   "execution_count": null,
   "id": "0610ed2d",
   "metadata": {},
   "outputs": [],
   "source": [
    "conn =sql.connect(user = 'root',password = 'Mani@2002',host = 'localhost',database ='youtube_data_harvesting')"
   ]
  },
  {
   "cell_type": "code",
   "execution_count": null,
   "id": "295c8ec9",
   "metadata": {},
   "outputs": [],
   "source": [
    "if conn:\n",
    "    print('hi')"
   ]
  },
  {
   "cell_type": "code",
   "execution_count": 26,
   "id": "38ac82d1",
   "metadata": {},
   "outputs": [],
   "source": [
    "cursor = conn.cursor()"
   ]
  },
  {
   "cell_type": "code",
   "execution_count": 27,
   "id": "3bbd8e00",
   "metadata": {},
   "outputs": [],
   "source": [
    "cursor.execute('show databases')"
   ]
  },
  {
   "cell_type": "code",
   "execution_count": 28,
   "id": "49020a66",
   "metadata": {},
   "outputs": [
    {
     "name": "stdout",
     "output_type": "stream",
     "text": [
      "('information_schema',)\n",
      "('mani',)\n",
      "('mysql',)\n",
      "('performance_schema',)\n",
      "('sql_task',)\n",
      "('sql_task1',)\n",
      "('sys',)\n",
      "('youtube_data_harvesting',)\n"
     ]
    }
   ],
   "source": [
    "for i in cursor.fetchall():\n",
    "    print(i)"
   ]
  },
  {
   "cell_type": "code",
   "execution_count": 29,
   "id": "1151fd9d",
   "metadata": {},
   "outputs": [],
   "source": [
    "cursor.execute('use youtube_data_harvesting')"
   ]
  },
  {
   "cell_type": "code",
   "execution_count": 32,
   "id": "efb4e58d",
   "metadata": {},
   "outputs": [],
   "source": [
    "cursor.execute('show tables')"
   ]
  },
  {
   "cell_type": "code",
   "execution_count": 33,
   "id": "4ac0ac48",
   "metadata": {},
   "outputs": [
    {
     "name": "stdout",
     "output_type": "stream",
     "text": [
      "('da',)\n"
     ]
    }
   ],
   "source": [
    "for i in cursor.fetchall():\n",
    "    print(i)"
   ]
  },
  {
   "cell_type": "code",
   "execution_count": null,
   "id": "b2121841",
   "metadata": {},
   "outputs": [],
   "source": []
  }
 ],
 "metadata": {
  "kernelspec": {
   "display_name": "Python 3 (ipykernel)",
   "language": "python",
   "name": "python3"
  },
  "language_info": {
   "codemirror_mode": {
    "name": "ipython",
    "version": 3
   },
   "file_extension": ".py",
   "mimetype": "text/x-python",
   "name": "python",
   "nbconvert_exporter": "python",
   "pygments_lexer": "ipython3",
   "version": "3.9.13"
  }
 },
 "nbformat": 4,
 "nbformat_minor": 5
}
