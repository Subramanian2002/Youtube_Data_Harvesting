{
 "cells": [
  {
   "cell_type": "code",
   "execution_count": 5,
   "id": "073a00ce",
   "metadata": {},
   "outputs": [
    {
     "name": "stdout",
     "output_type": "stream",
     "text": [
      "Collecting mysql-connector-python\n",
      "  Obtaining dependency information for mysql-connector-python from https://files.pythonhosted.org/packages/d3/b8/6798a0f91e595c0704a94c1e32a00ca930f77cb8f0f96c7e4dad4f9db1fe/mysql_connector_python-8.1.0-cp311-cp311-win_amd64.whl.metadata\n",
      "  Using cached mysql_connector_python-8.1.0-cp311-cp311-win_amd64.whl.metadata (2.1 kB)\n",
      "Collecting protobuf<=4.21.12,>=4.21.1 (from mysql-connector-python)\n",
      "  Using cached protobuf-4.21.12-cp310-abi3-win_amd64.whl (527 kB)\n",
      "Using cached mysql_connector_python-8.1.0-cp311-cp311-win_amd64.whl (10.8 MB)\n",
      "Installing collected packages: protobuf, mysql-connector-python\n",
      "Successfully installed mysql-connector-python-8.1.0 protobuf-4.21.12\n"
     ]
    }
   ],
   "source": [
    "!pip install mysql-connector-python"
   ]
  },
  {
   "cell_type": "code",
   "execution_count": 6,
   "id": "0cc1b214",
   "metadata": {},
   "outputs": [],
   "source": [
    "import pymongo\n",
    "\n",
    "myclient = pymongo.MongoClient(\"mongodb://localhost:27017/\")\n",
    "mydb = myclient[\"YTH\"]\n",
    "mycol = mydb[\"channel_data\"]\n",
    "my_data =list(mycol.find())"
   ]
  },
  {
   "cell_type": "code",
   "execution_count": 7,
   "id": "41300bcc",
   "metadata": {},
   "outputs": [],
   "source": [
    "import mysql.connector as sql\n",
    "conn =sql.connect(user = 'root',password = '1234',host = 'localhost',database = 'youtube_data_harvesting')\n",
    "cursor = conn.cursor()"
   ]
  },
  {
   "cell_type": "code",
   "execution_count": 29,
   "id": "14a73ba1",
   "metadata": {},
   "outputs": [],
   "source": [
    "channel_query = \"INSERT INTO channels(channel_id,channel_name,channel_views,channel_description,channel_subscription_count) VALUES(%s,%s,%s,%s,%s)\"\n",
    "for i in my_data:\n",
    "    for j in i['channel_details']:\n",
    "        values =(j['Channel_Id'],\n",
    "                 j['Channel_Name'],\n",
    "                 int(j['Channel_Views']),\n",
    "                 j['Channel_Description'],\n",
    "                 int(j['Subscription_Count']))\n",
    "        cursor.execute(channel_query,values)  \n",
    "conn.commit()             "
   ]
  },
  {
   "cell_type": "code",
   "execution_count": 30,
   "id": "a547e64f",
   "metadata": {},
   "outputs": [],
   "source": [
    "playlist_query = \"\"\"insert into playlist(playlist_id,channel_id,playlist_name)values(%s,%s,%s);\"\"\"\n",
    "for i in my_data:\n",
    "    for j in i['channel_playlists']:\n",
    "        values =(j['playlist_id'],\n",
    "                 j['channel_id'],\n",
    "                 j['playlist_name'])\n",
    "        cursor.execute(playlist_query,values)   \n",
    "        #print(values)\n",
    "conn.commit()             "
   ]
  },
  {
   "cell_type": "code",
   "execution_count": 31,
   "id": "636fded9",
   "metadata": {},
   "outputs": [],
   "source": [
    "video_query = \"\"\"insert into videos(video_id,channel_id,video_name,video_description,\n",
    "                    published_date,view_count,like_count,favorite_count,\n",
    "                    comment_count,video_duration,thumbnail,caption_satatus) \n",
    "                    values(%s,%s,%s,%s,%s,%s,%s,%s,%s,%s,%s,%s);\"\"\"\n",
    "for i in my_data:\n",
    "    for j in i['video_details']:\n",
    "        values =(j['video_id'],\n",
    "                 j['channel_id'],\n",
    "                 j['video_name'],\n",
    "                 j['video_description'],\n",
    "                 j['publishedat'],\n",
    "                 int(j['view_count']),\n",
    "                 int(j['like_count']),\n",
    "                 int(j['favorite_count']),\n",
    "                 int(j['comment_count']),\n",
    "                 j['video_duration'],\n",
    "                 j['thumbnail'],\n",
    "                 j['caption'])\n",
    "        cursor.execute(video_query,values) \n",
    "conn.commit()                 "
   ]
  },
  {
   "cell_type": "code",
   "execution_count": 32,
   "id": "6019fc95",
   "metadata": {},
   "outputs": [],
   "source": [
    "from datetime import datetime\n",
    "comment_query = \"\"\"insert into comments(comment_id,video_id,comment_text,comment_author,comment_published_date)values(%s,%s,%s,%s,%s);\"\"\"\n",
    "for i in my_data:\n",
    "    for j in i['comment_details']:\n",
    "        values =(j['comment_id'],\n",
    "                 j['video_id'],\n",
    "                 j['comment_text'],\n",
    "                 j['comment_author'],\n",
    "                 datetime.strptime(j['comment_publishedat'],\"%Y-%m-%dT%H:%M:%SZ\"))\n",
    "        cursor.execute(comment_query,values)    \n",
    "conn.commit()        "
   ]
  },
  {
   "cell_type": "code",
   "execution_count": 17,
   "id": "bccc1fe3",
   "metadata": {},
   "outputs": [],
   "source": [
    "cursor.execute(\"select count(comment_id) from comments;\")"
   ]
  },
  {
   "cell_type": "code",
   "execution_count": 18,
   "id": "97470e73",
   "metadata": {},
   "outputs": [
    {
     "name": "stdout",
     "output_type": "stream",
     "text": [
      "(19427,)\n"
     ]
    }
   ],
   "source": [
    "for i in cursor.fetchall():\n",
    "    print(i)"
   ]
  },
  {
   "cell_type": "code",
   "execution_count": 21,
   "id": "07fc38a1",
   "metadata": {},
   "outputs": [],
   "source": [
    "cursor.execute(\"alter table videos modify video_description text\")"
   ]
  }
 ],
 "metadata": {
  "kernelspec": {
   "display_name": "Python 3 (ipykernel)",
   "language": "python",
   "name": "python3"
  },
  "language_info": {
   "codemirror_mode": {
    "name": "ipython",
    "version": 3
   },
   "file_extension": ".py",
   "mimetype": "text/x-python",
   "name": "python",
   "nbconvert_exporter": "python",
   "pygments_lexer": "ipython3",
   "version": "3.11.4"
  }
 },
 "nbformat": 4,
 "nbformat_minor": 5
}
