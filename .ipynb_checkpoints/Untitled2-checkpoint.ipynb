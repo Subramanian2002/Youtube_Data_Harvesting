{
 "cells": [
  {
   "cell_type": "code",
   "execution_count": 71,
   "id": "7a73fe99",
   "metadata": {},
   "outputs": [],
   "source": [
    "import pymongo\n",
    "\n",
    "myclient = pymongo.MongoClient(\"mongodb://localhost:27017/\")\n",
    "mydb = myclient[\"YTH\"]\n",
    "mycol = mydb[\"channel_data\"]"
   ]
  },
  {
   "cell_type": "code",
   "execution_count": 72,
   "id": "2cad8044",
   "metadata": {},
   "outputs": [
    {
     "name": "stdout",
     "output_type": "stream",
     "text": [
      "1\n"
     ]
    }
   ],
   "source": [
    "my_data =list(mycol.find())\n",
    "channel_value =[]\n",
    "for i in my_data:\n",
    "    for j in i['channel_details']:\n",
    "        values =(j['Channel_Id'],\n",
    "                 j['Channel_Name'],\n",
    "                 int(j['Channel_Views']),\n",
    "                 j['Channel_Description'],\n",
    "                 int(j['Subscription_Count']))\n",
    "        channel_value.append(values)     \n",
    "print(len(channel_value))    "
   ]
  },
  {
   "cell_type": "code",
   "execution_count": 73,
   "id": "95069750",
   "metadata": {},
   "outputs": [
    {
     "name": "stdout",
     "output_type": "stream",
     "text": [
      "41\n"
     ]
    }
   ],
   "source": [
    "playlist_value =[]\n",
    "for i in my_data:\n",
    "    for j in i['channel_playlists']:\n",
    "        values =(j['playlist_id'],\n",
    "                 j['channel_id'],\n",
    "                 j['playlist_name'])\n",
    "        playlist_value.append(values)     \n",
    "print(len(playlist_value))    "
   ]
  },
  {
   "cell_type": "code",
   "execution_count": 80,
   "id": "3217454c",
   "metadata": {},
   "outputs": [
    {
     "name": "stdout",
     "output_type": "stream",
     "text": [
      "224\n",
      "('qnozeCkyzzw', 'UCk3JZr7eS3pg5AGEvBdEvFg', 'CHICKEN OMELETTE | Huge Eggs With Chicken Meat | Protein Rich Omelette Recipe Cooking Village', 'Today in our village, we cook a huge quantity of delicious omelette with chicken meat. We use raw cooked chicken meat that contains healthy protein. \\n\\nWe cook the chicken egg omelette with traditionally made gingelly oil so this omelette recipe gets a traditional taste!', datetime.datetime(2023, 9, 5, 14, 12, 16), 30575563, 399690, 0, 7508, '0:08:44', 'https://i.ytimg.com/vi/qnozeCkyzzw/default.jpg', 'false')\n"
     ]
    }
   ],
   "source": [
    "video_value =[]\n",
    "for i in my_data:\n",
    "    for j in i['video_details']:\n",
    "        values =(j['video_id'],\n",
    "                 j['channel_id'],\n",
    "                 j['video_name'],\n",
    "                 j['video_description'],\n",
    "                 j['publishedat'],\n",
    "                 j['view_count'],\n",
    "                 j['like_count'],\n",
    "                 j['favorite_count'],\n",
    "                 j['comment_count'],\n",
    "                 j['video_duration'],\n",
    "                 j['thumbnail'],\n",
    "                 j['caption'])\n",
    "        video_value.append(values)     \n",
    "print(len(video_value))\n",
    "print(video_value[0])"
   ]
  },
  {
   "cell_type": "code",
   "execution_count": 88,
   "id": "fdd99220",
   "metadata": {},
   "outputs": [
    {
     "name": "stdout",
     "output_type": "stream",
     "text": [
      "Collecting datetime\n",
      "  Downloading DateTime-5.2-py3-none-any.whl (52 kB)\n",
      "     -------------------------------------- 52.2/52.2 kB 538.2 kB/s eta 0:00:00\n",
      "Requirement already satisfied: zope.interface in c:\\users\\aayirathal\\anaconda3\\lib\\site-packages (from datetime) (5.4.0)\n",
      "Requirement already satisfied: pytz in c:\\users\\aayirathal\\anaconda3\\lib\\site-packages (from datetime) (2022.1)\n",
      "Requirement already satisfied: setuptools in c:\\users\\aayirathal\\anaconda3\\lib\\site-packages (from zope.interface->datetime) (63.4.1)\n",
      "Installing collected packages: datetime\n",
      "Successfully installed datetime-5.2\n"
     ]
    },
    {
     "name": "stderr",
     "output_type": "stream",
     "text": [
      "WARNING: Ignoring invalid distribution -rotobuf (c:\\users\\aayirathal\\anaconda3\\lib\\site-packages)\n",
      "WARNING: Ignoring invalid distribution -rotobuf (c:\\users\\aayirathal\\anaconda3\\lib\\site-packages)\n",
      "WARNING: Ignoring invalid distribution -rotobuf (c:\\users\\aayirathal\\anaconda3\\lib\\site-packages)\n",
      "WARNING: Ignoring invalid distribution -rotobuf (c:\\users\\aayirathal\\anaconda3\\lib\\site-packages)\n",
      "WARNING: Ignoring invalid distribution -rotobuf (c:\\users\\aayirathal\\anaconda3\\lib\\site-packages)\n",
      "WARNING: Ignoring invalid distribution -rotobuf (c:\\users\\aayirathal\\anaconda3\\lib\\site-packages)\n",
      "WARNING: Ignoring invalid distribution -rotobuf (c:\\users\\aayirathal\\anaconda3\\lib\\site-packages)\n"
     ]
    }
   ],
   "source": [
    "!pip install datetime"
   ]
  },
  {
   "cell_type": "code",
   "execution_count": 87,
   "id": "1959342e",
   "metadata": {},
   "outputs": [
    {
     "ename": "TypeError",
     "evalue": "strptime() takes exactly 2 arguments (1 given)",
     "output_type": "error",
     "traceback": [
      "\u001b[1;31m---------------------------------------------------------------------------\u001b[0m",
      "\u001b[1;31mTypeError\u001b[0m                                 Traceback (most recent call last)",
      "\u001b[1;32m~\\AppData\\Local\\Temp\\ipykernel_2996\\2742685385.py\u001b[0m in \u001b[0;36m<module>\u001b[1;34m\u001b[0m\n\u001b[0;32m      7\u001b[0m                  \u001b[0mj\u001b[0m\u001b[1;33m[\u001b[0m\u001b[1;34m'comment_text'\u001b[0m\u001b[1;33m]\u001b[0m\u001b[1;33m,\u001b[0m\u001b[1;33m\u001b[0m\u001b[1;33m\u001b[0m\u001b[0m\n\u001b[0;32m      8\u001b[0m                  \u001b[0mj\u001b[0m\u001b[1;33m[\u001b[0m\u001b[1;34m'comment_author'\u001b[0m\u001b[1;33m]\u001b[0m\u001b[1;33m,\u001b[0m\u001b[1;33m\u001b[0m\u001b[1;33m\u001b[0m\u001b[0m\n\u001b[1;32m----> 9\u001b[1;33m                  datetime.datetime.strptime(j['comment_publishedat']),\"%Y-%m-%dT%H:%M:%SZ\")\n\u001b[0m\u001b[0;32m     10\u001b[0m         \u001b[0mcomment_value\u001b[0m\u001b[1;33m.\u001b[0m\u001b[0mappend\u001b[0m\u001b[1;33m(\u001b[0m\u001b[0mvalues\u001b[0m\u001b[1;33m)\u001b[0m\u001b[1;33m\u001b[0m\u001b[1;33m\u001b[0m\u001b[0m\n\u001b[0;32m     11\u001b[0m \u001b[0mprint\u001b[0m\u001b[1;33m(\u001b[0m\u001b[0mlen\u001b[0m\u001b[1;33m(\u001b[0m\u001b[0mcomment_value\u001b[0m\u001b[1;33m)\u001b[0m\u001b[1;33m)\u001b[0m\u001b[1;33m\u001b[0m\u001b[1;33m\u001b[0m\u001b[0m\n",
      "\u001b[1;31mTypeError\u001b[0m: strptime() takes exactly 2 arguments (1 given)"
     ]
    }
   ],
   "source": [
    "import datetime\n",
    "comment_value =[]\n",
    "for i in my_data:\n",
    "    for j in i['comment_details']:\n",
    "        values =(j['comment_id'],\n",
    "                 j['video_id'],\n",
    "                 j['comment_text'],\n",
    "                 j['comment_author'],\n",
    "                 datetime.datetime.strptime(j['comment_publishedat']),\"%Y-%m-%dT%H:%M:%SZ\")\n",
    "        comment_value.append(values)     \n",
    "print(len(comment_value))   "
   ]
  },
  {
   "cell_type": "code",
   "execution_count": null,
   "id": "ca31e471",
   "metadata": {},
   "outputs": [],
   "source": []
  },
  {
   "cell_type": "code",
   "execution_count": null,
   "id": "bc69f68a",
   "metadata": {},
   "outputs": [],
   "source": []
  },
  {
   "cell_type": "code",
   "execution_count": null,
   "id": "8a06f2c4",
   "metadata": {},
   "outputs": [],
   "source": []
  },
  {
   "cell_type": "code",
   "execution_count": 9,
   "id": "9add2b97",
   "metadata": {},
   "outputs": [
    {
     "ename": "NameError",
     "evalue": "name 'data' is not defined",
     "output_type": "error",
     "traceback": [
      "\u001b[1;31m---------------------------------------------------------------------------\u001b[0m",
      "\u001b[1;31mNameError\u001b[0m                                 Traceback (most recent call last)",
      "\u001b[1;32m~\\AppData\\Local\\Temp\\ipykernel_2996\\391604064.py\u001b[0m in \u001b[0;36m<module>\u001b[1;34m\u001b[0m\n\u001b[1;32m----> 1\u001b[1;33m \u001b[0mdata\u001b[0m\u001b[1;33m\u001b[0m\u001b[1;33m\u001b[0m\u001b[0m\n\u001b[0m",
      "\u001b[1;31mNameError\u001b[0m: name 'data' is not defined"
     ]
    }
   ],
   "source": [
    "data"
   ]
  },
  {
   "cell_type": "code",
   "execution_count": null,
   "id": "7bad5461",
   "metadata": {},
   "outputs": [],
   "source": []
  }
 ],
 "metadata": {
  "kernelspec": {
   "display_name": "Python 3 (ipykernel)",
   "language": "python",
   "name": "python3"
  },
  "language_info": {
   "codemirror_mode": {
    "name": "ipython",
    "version": 3
   },
   "file_extension": ".py",
   "mimetype": "text/x-python",
   "name": "python",
   "nbconvert_exporter": "python",
   "pygments_lexer": "ipython3",
   "version": "3.9.13"
  }
 },
 "nbformat": 4,
 "nbformat_minor": 5
}
